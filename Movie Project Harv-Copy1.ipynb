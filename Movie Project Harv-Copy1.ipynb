{
 "cells": [
  {
   "cell_type": "code",
   "execution_count": null,
   "metadata": {},
   "outputs": [],
   "source": [
    "import pandas as pd\n",
    "import numpy as np\n",
    "import re\n",
    "import sklearn\n",
    "from sklearn import cluster\n",
    "import matplotlib.pyplot as plt\n",
    "import seaborn as sb\n",
    "import matplotlib as g\n",
    "from sklearn.preprocessing import OneHotEncoder\n",
    "import random"
   ]
  },
  {
   "cell_type": "code",
   "execution_count": null,
   "metadata": {},
   "outputs": [],
   "source": [
    "# Reading the Data"
   ]
  },
  {
   "cell_type": "code",
   "execution_count": null,
   "metadata": {},
   "outputs": [],
   "source": [
    "movie = pd.read_csv(\"cleaned_movies.csv\", encoding='utf-8')\n",
    "#movie = pd.read_csv(\"/Users/michael/Documents/UCSB_2017-2018/PSTAT 134/134MHCP/cleaned_movies.csv\", encoding='utf-8')\n",
    "movie.head()"
   ]
  },
  {
   "cell_type": "markdown",
   "metadata": {},
   "source": [
    "# Calculating Genre Correlations"
   ]
  },
  {
   "cell_type": "code",
   "execution_count": null,
   "metadata": {},
   "outputs": [],
   "source": [
    "df = movie\n",
    "c = df.corr().abs()\n",
    "s = c.unstack()\n",
    "so = s.sort_values(ascending=False, kind=\"quicksort\")\n",
    "genre_corr = so[28::2]\n",
    "genre_corr[0:28]"
   ]
  },
  {
   "cell_type": "code",
   "execution_count": null,
   "metadata": {},
   "outputs": [],
   "source": [
    "counts = [] #getting the counts per genre\n",
    "genres = df.columns[2::]\n",
    "for i in genres:\n",
    "    counts.append(df[i].value_counts().to_dict())"
   ]
  },
  {
   "cell_type": "code",
   "execution_count": null,
   "metadata": {},
   "outputs": [],
   "source": [
    "#creating counts table\n",
    "counts_df = pd.DataFrame.from_dict(counts)\n",
    "\n",
    "counts_df[2] = genres\n",
    "\n",
    "counts_table = counts_df.drop([0], axis=1)\n",
    "\n",
    "counts_table = counts_table.rename(columns = {1:'counts', 2:'genre'})\n",
    "counts_sort = counts_table.sort_values('counts', ascending=False)\n",
    "\n",
    "#creating column of cumulative sums\n",
    "sumcol = counts_sort['counts'].sum()\n",
    "cumsum = counts_sort['counts']/sumcol\n",
    "counts_sort['cumsum'] = cumsum\n",
    "counts_sort"
   ]
  },
  {
   "cell_type": "markdown",
   "metadata": {},
   "source": [
    "# acquiring all column labels we decided we dont want"
   ]
  },
  {
   "cell_type": "code",
   "execution_count": null,
   "metadata": {},
   "outputs": [],
   "source": [
    "garb = counts_sort['genre'].where(counts_sort['cumsum']<.04).tolist()\n",
    "garb = garb[9::]\n",
    "garb"
   ]
  },
  {
   "cell_type": "code",
   "execution_count": null,
   "metadata": {},
   "outputs": [],
   "source": [
    "clean_df = df #clean dataset without garbage labels\n",
    "clean_df = clean_df.drop(garb, axis=1) #removing the unwanted genres from our dataset\n",
    "clean_df = clean_df.drop(clean_df.columns[0], axis=1)\n",
    "clean_df.head()"
   ]
  },
  {
   "cell_type": "code",
   "execution_count": null,
   "metadata": {},
   "outputs": [],
   "source": [
    "#New Correlations after removing excess labels\n",
    "c = clean_df.corr().abs()\n",
    "s = c.unstack()\n",
    "so = s.sort_values(ascending=False, kind=\"quicksort\")\n",
    "genre_corr = so[9::2]\n",
    "genre_corr[0:12]"
   ]
  },
  {
   "cell_type": "code",
   "execution_count": null,
   "metadata": {},
   "outputs": [],
   "source": [
    "#combining adventure and action\n",
    "Action_Adventure=[]\n",
    "for i in range(0, len(clean_df), 1):\n",
    "    if (clean_df['Action'][i]==1 or clean_df['Adventure'][i]==1):\n",
    "        Action_Adventure.append(1)\n",
    "    else:\n",
    "        Action_Adventure.append(0)\n",
    "        \n",
    "#combining Drama and Documentary\n",
    "Drama_Documentary=[]\n",
    "for i in range(0, len(clean_df), 1):\n",
    "    if (clean_df['Drama'][i]==1 or clean_df['Documentary'][i]==1):\n",
    "        Drama_Documentary.append(1)\n",
    "    else:\n",
    "        Drama_Documentary.append(0)"
   ]
  },
  {
   "cell_type": "code",
   "execution_count": null,
   "metadata": {},
   "outputs": [],
   "source": [
    "no_titles = clean_df.drop([\"Title\"], axis=1) #final_df without the Title columns (final \"raw\" dataset before undersampling)\n",
    "clean_df[\"Action/Adventure\"] = Action_Adventure\n",
    "clean_df[\"Drama/Documentary\"] = Drama_Documentary\n",
    "final_df = clean_df.drop(['Action', 'Adventure', 'Documentary', 'Drama'], axis=1)\n",
    "final_df"
   ]
  },
  {
   "cell_type": "code",
   "execution_count": null,
   "metadata": {},
   "outputs": [],
   "source": [
    "#this cell acquires the new cumulative sums after we merging some labels\n",
    "clean_counts = []\n",
    "clean_genre = no_titles.columns.tolist()\n",
    "#clean_genre = final_df.columns.tolist()\n",
    "for i in clean_genre:\n",
    "    clean_counts.append(clean_df[i].value_counts().to_dict())\n",
    "    \n",
    "c_counts_df = pd.DataFrame.from_dict(clean_counts)\n",
    "c_counts_df\n",
    "\n",
    "c_counts_df[2] = clean_genre\n",
    "c_counts_df\n",
    "c_counts_table = c_counts_df.drop([0], axis=1)\n",
    "\n",
    "c_counts_table = c_counts_table.rename(columns = {1:'counts', 2:'genre'})\n",
    "c_counts_sort = c_counts_table.sort_values('counts', ascending=False)\n",
    "\n",
    "c_sumcol = c_counts_sort['counts'].sum()\n",
    "c_cumsum = c_counts_sort['counts']/c_sumcol\n",
    "c_counts_sort['cumsum'] = c_cumsum\n",
    "c_counts_sort"
   ]
  },
  {
   "cell_type": "markdown",
   "metadata": {},
   "source": [
    "# Downsampling!"
   ]
  },
  {
   "cell_type": "code",
   "execution_count": null,
   "metadata": {},
   "outputs": [],
   "source": [
    "sampled = final_df #duplicate our dataset to work with\n",
    "sampled['sample']=0 #append a column of zeros"
   ]
  },
  {
   "cell_type": "code",
   "execution_count": null,
   "metadata": {},
   "outputs": [],
   "source": [
    "#randomly select 4000 observations from each genre without replacment\n",
    "random.seed(1)\n",
    "for i in clean_genre:\n",
    "    i = np.random.choice(no_titles.where(no_titles[i]==1).index, size=4000, replace=False)\n",
    "    sampled['sample'][i]=1 #changing the sample value to 1 means we will 'select' this observation\n",
    "sampled"
   ]
  },
  {
   "cell_type": "code",
   "execution_count": null,
   "metadata": {},
   "outputs": [],
   "source": [
    "undersampled = sampled.loc[sampled['sample']==1] #only keep observations where sample=1\n",
    "undersampled = undersampled.drop(['sample'], axis=1) #delete sample column, since they will all be 1\n",
    "undersampled"
   ]
  },
  {
   "cell_type": "code",
   "execution_count": null,
   "metadata": {},
   "outputs": [],
   "source": [
    "undersampled.to_pickle('Undersampled Dataset')"
   ]
  },
  {
   "cell_type": "code",
   "execution_count": null,
   "metadata": {},
   "outputs": [],
   "source": [
    "####################################################################################\n",
    "##  if we only want to use the top 6 genres without grouping, use this dataframe  ##\n",
    "####################################################################################\n",
    "sixgenres = clean_df.drop(['Adventure', 'Documentary', 'Drama'], axis=1)\n",
    "sixgenres['sample']=0\n",
    "#randomly select 4000 observations from each genre without replacment\n",
    "# random.seed(1)\n",
    "# for i in sixgenres.columns[1::]:\n",
    "#     i = np.random.choice(sixgenres.where(sixgenres[i]==1).index, size=4000, replace=False)\n",
    "#     sixgenres['sample'][i]=1 #changing the sample value to 1 means we will 'select' this observation\n",
    "# sixgenres = sixgenres.loc[sixgenres['sample']==1] #only keep observations where sample=1\n",
    "# sixgenres = sixgenres.drop(['sample'], axis=1) #delete sample column, since they will all be 1\n",
    "sixgenres.head()"
   ]
  },
  {
   "cell_type": "code",
   "execution_count": null,
   "metadata": {},
   "outputs": [],
   "source": [
    "genres = sixgenres.columns[1:].tolist()\n",
    "counts = []\n",
    "for i in genres:\n",
    "    counts.append(sixgenres[i].value_counts().to_dict())\n",
    "    #counts.append((df[i]==1).value_counts().to_dict())\n",
    "#counts_df = []\n",
    "counts_df = pd.DataFrame.from_dict(counts)\n",
    "#counts_df = pd.DataFrame(counts)\n",
    "#counts_df = pd.DataFrame(counts)\n",
    "counts_df[2] = genres\n",
    "#counts_df\n",
    "counts_table = counts_df.drop([0], axis=1)\n",
    "#counts_table = counts_table.drop([28])\n",
    "counts_table = counts_table.rename(columns = {1:'counts', 2:'genre'})\n",
    "counts_sort = counts_table.sort('counts', ascending=False)\n",
    "#counts_sort\n",
    "sumcol = counts_sort['counts'].sum()\n",
    "cumsum = counts_sort['counts']/sumcol\n",
    "counts_sort['cumsum'] = cumsum\n",
    "counts_sort"
   ]
  },
  {
   "cell_type": "code",
   "execution_count": null,
   "metadata": {},
   "outputs": [],
   "source": [
    "col_list = ['Action','Comedy','Crime','Horror','Romance','Thriller']"
   ]
  },
  {
   "cell_type": "code",
   "execution_count": null,
   "metadata": {},
   "outputs": [],
   "source": [
    "sixgenres['Empty'] = sixgenres[col_list].sum(axis = 1)"
   ]
  },
  {
   "cell_type": "code",
   "execution_count": null,
   "metadata": {},
   "outputs": [],
   "source": [
    "df = sixgenres[sixgenres.Empty != 0]"
   ]
  },
  {
   "cell_type": "code",
   "execution_count": null,
   "metadata": {},
   "outputs": [],
   "source": [
    "df.head()"
   ]
  },
  {
   "cell_type": "code",
   "execution_count": null,
   "metadata": {},
   "outputs": [],
   "source": [
    "for i in df.columns[1:]:\n",
    "    print(i)\n",
    "    print(df[i].sum())\n",
    "    "
   ]
  },
  {
   "cell_type": "code",
   "execution_count": null,
   "metadata": {},
   "outputs": [],
   "source": [
    "comedy = df[df['Comedy'] == 1]"
   ]
  },
  {
   "cell_type": "code",
   "execution_count": null,
   "metadata": {},
   "outputs": [],
   "source": [
    "np.random.seed = 1\n",
    "b = np.random.choice(comedy.Title,size = 4000, replace = False)"
   ]
  },
  {
   "cell_type": "code",
   "execution_count": null,
   "metadata": {},
   "outputs": [],
   "source": [
    "df2 = comedy[comedy['Title'].isin(b)]"
   ]
  },
  {
   "cell_type": "code",
   "execution_count": null,
   "metadata": {},
   "outputs": [],
   "source": [
    "df2.head()"
   ]
  },
  {
   "cell_type": "code",
   "execution_count": null,
   "metadata": {},
   "outputs": [],
   "source": [
    "df2.Title"
   ]
  },
  {
   "cell_type": "code",
   "execution_count": null,
   "metadata": {},
   "outputs": [],
   "source": [
    "df3 = df[(df['Title'].isin(df2.Title) & df['Comedy'] == 1) | (df['Comedy'] == 0)]"
   ]
  },
  {
   "cell_type": "code",
   "execution_count": null,
   "metadata": {},
   "outputs": [],
   "source": [
    "df3.head(50)"
   ]
  },
  {
   "cell_type": "code",
   "execution_count": null,
   "metadata": {},
   "outputs": [],
   "source": [
    "for i in df3.columns[1:]:\n",
    "    print(i)\n",
    "    print(df3[i].sum())"
   ]
  },
  {
   "cell_type": "code",
   "execution_count": null,
   "metadata": {},
   "outputs": [],
   "source": [
    "len(df3.Title)"
   ]
  },
  {
   "cell_type": "code",
   "execution_count": null,
   "metadata": {},
   "outputs": [],
   "source": [
    "df4 = df3.drop(df3.columns[-2:],axis= 1)"
   ]
  },
  {
   "cell_type": "code",
   "execution_count": null,
   "metadata": {},
   "outputs": [],
   "source": []
  },
  {
   "cell_type": "code",
   "execution_count": null,
   "metadata": {},
   "outputs": [],
   "source": [
    "df4.head()"
   ]
  },
  {
   "cell_type": "code",
   "execution_count": null,
   "metadata": {},
   "outputs": [],
   "source": [
    "genres = df4.columns[1:].tolist()\n",
    "counts = []\n",
    "for i in genres:\n",
    "    counts.append(df4[i].value_counts().to_dict())\n",
    "    #counts.append((df[i]==1).value_counts().to_dict())\n",
    "#counts_df = []\n",
    "counts_df = pd.DataFrame.from_dict(counts)\n",
    "#counts_df = pd.DataFrame(counts)\n",
    "#counts_df = pd.DataFrame(counts)\n",
    "counts_df[2] = genres\n",
    "#counts_df\n",
    "counts_table = counts_df.drop([0], axis=1)\n",
    "#counts_table = counts_table.drop([28])\n",
    "counts_table = counts_table.rename(columns = {1:'counts', 2:'genre'})\n",
    "counts_sort = counts_table.sort('counts', ascending=False)\n",
    "#counts_sort\n",
    "sumcol = counts_sort['counts'].sum()\n",
    "cumsum = counts_sort['counts']/sumcol\n",
    "counts_sort['cumsum'] = cumsum\n",
    "counts_sort"
   ]
  },
  {
   "cell_type": "code",
   "execution_count": null,
   "metadata": {},
   "outputs": [],
   "source": [
    "df4.to_pickle('Top6.pkl')"
   ]
  }
 ],
 "metadata": {
  "language_info": {
   "name": "python",
   "pygments_lexer": "ipython3"
  }
 },
 "nbformat": 4,
 "nbformat_minor": 2
}
