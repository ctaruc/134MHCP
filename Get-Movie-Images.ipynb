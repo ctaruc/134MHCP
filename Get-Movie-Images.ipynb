{
 "cells": [
  {
   "cell_type": "code",
   "execution_count": 1,
   "metadata": {},
   "outputs": [
    {
     "name": "stdout",
     "output_type": "stream",
     "text": [
      "Requirement already satisfied: pandas in /usr/local/lib/python3.6/site-packages (0.23.0)\r\n",
      "Requirement already satisfied: python-dateutil>=2.5.0 in /usr/local/lib/python3.6/site-packages (from pandas) (2.7.3)\r\n",
      "Requirement already satisfied: pytz>=2011k in /usr/local/lib/python3.6/site-packages (from pandas) (2018.4)\r\n",
      "Requirement already satisfied: numpy>=1.9.0 in /usr/local/lib/python3.6/site-packages (from pandas) (1.14.2)\r\n",
      "Requirement already satisfied: six>=1.5 in /usr/local/lib/python3.6/site-packages (from python-dateutil>=2.5.0->pandas) (1.11.0)\r\n"
     ]
    }
   ],
   "source": [
    "! pip install pandas"
   ]
  },
  {
   "cell_type": "code",
   "execution_count": 2,
   "metadata": {},
   "outputs": [],
   "source": [
    "import pandas as pd"
   ]
  },
  {
   "cell_type": "code",
   "execution_count": 3,
   "metadata": {},
   "outputs": [],
   "source": [
    "import urllib.request\n",
    "from urllib.request import urlopen"
   ]
  },
  {
   "cell_type": "code",
   "execution_count": 4,
   "metadata": {},
   "outputs": [],
   "source": [
    "from requests.exceptions import HTTPError"
   ]
  },
  {
   "cell_type": "code",
   "execution_count": 5,
   "metadata": {},
   "outputs": [],
   "source": [
    "from tqdm import tnrange, tqdm_notebook"
   ]
  },
  {
   "cell_type": "code",
   "execution_count": 6,
   "metadata": {},
   "outputs": [],
   "source": [
    "movie = pd.read_csv(\"MovieGenre.csv\", encoding='latin-1')"
   ]
  },
  {
   "cell_type": "code",
   "execution_count": 7,
   "metadata": {
    "scrolled": true
   },
   "outputs": [
    {
     "data": {
      "text/html": [
       "<div>\n",
       "<style scoped>\n",
       "    .dataframe tbody tr th:only-of-type {\n",
       "        vertical-align: middle;\n",
       "    }\n",
       "\n",
       "    .dataframe tbody tr th {\n",
       "        vertical-align: top;\n",
       "    }\n",
       "\n",
       "    .dataframe thead th {\n",
       "        text-align: right;\n",
       "    }\n",
       "</style>\n",
       "<table border=\"1\" class=\"dataframe\">\n",
       "  <thead>\n",
       "    <tr style=\"text-align: right;\">\n",
       "      <th></th>\n",
       "      <th>imdbId</th>\n",
       "      <th>Imdb Link</th>\n",
       "      <th>Title</th>\n",
       "      <th>IMDB Score</th>\n",
       "      <th>Genre</th>\n",
       "      <th>Poster</th>\n",
       "    </tr>\n",
       "  </thead>\n",
       "  <tbody>\n",
       "    <tr>\n",
       "      <th>0</th>\n",
       "      <td>114709</td>\n",
       "      <td>http://www.imdb.com/title/tt114709</td>\n",
       "      <td>Toy Story (1995)</td>\n",
       "      <td>8.3</td>\n",
       "      <td>Animation|Adventure|Comedy</td>\n",
       "      <td>https://images-na.ssl-images-amazon.com/images...</td>\n",
       "    </tr>\n",
       "    <tr>\n",
       "      <th>1</th>\n",
       "      <td>113497</td>\n",
       "      <td>http://www.imdb.com/title/tt113497</td>\n",
       "      <td>Jumanji (1995)</td>\n",
       "      <td>6.9</td>\n",
       "      <td>Action|Adventure|Family</td>\n",
       "      <td>https://images-na.ssl-images-amazon.com/images...</td>\n",
       "    </tr>\n",
       "    <tr>\n",
       "      <th>2</th>\n",
       "      <td>113228</td>\n",
       "      <td>http://www.imdb.com/title/tt113228</td>\n",
       "      <td>Grumpier Old Men (1995)</td>\n",
       "      <td>6.6</td>\n",
       "      <td>Comedy|Romance</td>\n",
       "      <td>https://images-na.ssl-images-amazon.com/images...</td>\n",
       "    </tr>\n",
       "    <tr>\n",
       "      <th>3</th>\n",
       "      <td>114885</td>\n",
       "      <td>http://www.imdb.com/title/tt114885</td>\n",
       "      <td>Waiting to Exhale (1995)</td>\n",
       "      <td>5.7</td>\n",
       "      <td>Comedy|Drama|Romance</td>\n",
       "      <td>https://images-na.ssl-images-amazon.com/images...</td>\n",
       "    </tr>\n",
       "    <tr>\n",
       "      <th>4</th>\n",
       "      <td>113041</td>\n",
       "      <td>http://www.imdb.com/title/tt113041</td>\n",
       "      <td>Father of the Bride Part II (1995)</td>\n",
       "      <td>5.9</td>\n",
       "      <td>Comedy|Family|Romance</td>\n",
       "      <td>https://images-na.ssl-images-amazon.com/images...</td>\n",
       "    </tr>\n",
       "  </tbody>\n",
       "</table>\n",
       "</div>"
      ],
      "text/plain": [
       "   imdbId                           Imdb Link  \\\n",
       "0  114709  http://www.imdb.com/title/tt114709   \n",
       "1  113497  http://www.imdb.com/title/tt113497   \n",
       "2  113228  http://www.imdb.com/title/tt113228   \n",
       "3  114885  http://www.imdb.com/title/tt114885   \n",
       "4  113041  http://www.imdb.com/title/tt113041   \n",
       "\n",
       "                                Title  IMDB Score                       Genre  \\\n",
       "0                    Toy Story (1995)         8.3  Animation|Adventure|Comedy   \n",
       "1                      Jumanji (1995)         6.9     Action|Adventure|Family   \n",
       "2             Grumpier Old Men (1995)         6.6              Comedy|Romance   \n",
       "3            Waiting to Exhale (1995)         5.7        Comedy|Drama|Romance   \n",
       "4  Father of the Bride Part II (1995)         5.9       Comedy|Family|Romance   \n",
       "\n",
       "                                              Poster  \n",
       "0  https://images-na.ssl-images-amazon.com/images...  \n",
       "1  https://images-na.ssl-images-amazon.com/images...  \n",
       "2  https://images-na.ssl-images-amazon.com/images...  \n",
       "3  https://images-na.ssl-images-amazon.com/images...  \n",
       "4  https://images-na.ssl-images-amazon.com/images...  "
      ]
     },
     "execution_count": 7,
     "metadata": {},
     "output_type": "execute_result"
    }
   ],
   "source": [
    "movie.head()"
   ]
  },
  {
   "cell_type": "code",
   "execution_count": 8,
   "metadata": {},
   "outputs": [
    {
     "data": {
      "text/html": [
       "<div>\n",
       "<style scoped>\n",
       "    .dataframe tbody tr th:only-of-type {\n",
       "        vertical-align: middle;\n",
       "    }\n",
       "\n",
       "    .dataframe tbody tr th {\n",
       "        vertical-align: top;\n",
       "    }\n",
       "\n",
       "    .dataframe thead th {\n",
       "        text-align: right;\n",
       "    }\n",
       "</style>\n",
       "<table border=\"1\" class=\"dataframe\">\n",
       "  <thead>\n",
       "    <tr style=\"text-align: right;\">\n",
       "      <th></th>\n",
       "      <th>imdbId</th>\n",
       "      <th>Imdb Link</th>\n",
       "      <th>Title</th>\n",
       "      <th>IMDB Score</th>\n",
       "      <th>Genre</th>\n",
       "      <th>Poster</th>\n",
       "    </tr>\n",
       "  </thead>\n",
       "  <tbody>\n",
       "    <tr>\n",
       "      <th>366</th>\n",
       "      <td>110622</td>\n",
       "      <td>http://www.imdb.com/title/tt110622</td>\n",
       "      <td>Naked Gun 33 1/3: The Final Insult (1994)</td>\n",
       "      <td>6.4</td>\n",
       "      <td>Comedy|Crime</td>\n",
       "      <td>https://images-na.ssl-images-amazon.com/images...</td>\n",
       "    </tr>\n",
       "  </tbody>\n",
       "</table>\n",
       "</div>"
      ],
      "text/plain": [
       "     imdbId                           Imdb Link  \\\n",
       "366  110622  http://www.imdb.com/title/tt110622   \n",
       "\n",
       "                                         Title  IMDB Score         Genre  \\\n",
       "366  Naked Gun 33 1/3: The Final Insult (1994)         6.4  Comedy|Crime   \n",
       "\n",
       "                                                Poster  \n",
       "366  https://images-na.ssl-images-amazon.com/images...  "
      ]
     },
     "execution_count": 8,
     "metadata": {},
     "output_type": "execute_result"
    }
   ],
   "source": [
    "movie.loc[movie['Title'] == 'Naked Gun 33 1/3: The Final Insult (1994)']"
   ]
  },
  {
   "cell_type": "code",
   "execution_count": 9,
   "metadata": {
    "scrolled": true
   },
   "outputs": [
    {
     "data": {
      "text/plain": [
       "['Naked Gun 33 1/3: The Final Insult (1994)',\n",
       " 'Venice/Venice (1992)',\n",
       " 'JLG/JLG - autoportrait de dí©cembre (1994)',\n",
       " 'Face/Off (1997)',\n",
       " 'Beloved/Friend (1999)',\n",
       " 'Smoking/No Smoking (1993)',\n",
       " 'F/X (1986)',\n",
       " 'F/X2 (1991)',\n",
       " 'Crazy/Beautiful (2001)',\n",
       " 'Marat/Sade (1967)',\n",
       " 'XX/XY (2002)',\n",
       " 'Bollywood/Hollywood (2002)',\n",
       " 'Fahrenheit 9/11 (2004)',\n",
       " 'The Lion King 1 1/2 (2004)',\n",
       " 'Hijacking Catastrophe: 9/11, Fear & the Selling of American Empire (2004)',\n",
       " 'Fahrenhype 9/11 (2004)',\n",
       " '9/11 (2002)',\n",
       " 'A/k/a Tommy Chong (2006)',\n",
       " 'A/k/a Tommy Chong (2006)',\n",
       " 'White Light/Black Rain: The Destruction of Hiroshima and Nagasaki (2007)',\n",
       " 'CSNY/DÌ©jÌÊ Vu (2008)',\n",
       " 'Frost/Nixon (2008)',\n",
       " 'Trop tÌ«t/Trop tard (1982)',\n",
       " 'Drama/Mex (2006)',\n",
       " 'The Bugs Bunny/Road-Runner Movie (1979)',\n",
       " '06/05 (2004)',\n",
       " 'Superman/Batman: Apocalypse (2010)',\n",
       " 'Loose Change 9/11: An American Coup (2009)',\n",
       " 'Win/Win (2010)',\n",
       " '50/50 (2011)',\n",
       " 'The Harvest/La Cosecha (2011)',\n",
       " '99 and 44/100% Dead (1974)',\n",
       " 'Superman/Doomsday (2007)',\n",
       " 'Superman/Batman: Public Enemies (2009)',\n",
       " 'V/H/S (2012)',\n",
       " 'Drei Zimmer/KÌ_che/Bad (2012)',\n",
       " 'Role/Play (2010)',\n",
       " 'V/H/S/2 (2013)',\n",
       " 'Moi CÌ©sar, 10 ans 1/2, 1m39 (2003)',\n",
       " 'Pretty/Handsome (2008)',\n",
       " 'Night Gallery (The Cemetery/Eyes/The Escape Route)',\n",
       " '13/13/13 (2013)',\n",
       " 'Free Range/Ballaad maailma heakskiitmisest (2013)',\n",
       " 'V/H/S Viral (2014)',\n",
       " '1 1/2 Ritter - Auf der Suche nach der hinreiÌÙenden Herzelinde (2008)',\n",
       " 'Isi/Disi - Amor a lo bestia (2004)',\n",
       " 'Fifty/Fifty (1992)',\n",
       " 'Intikam Melegi/Kadin Hamlet (1976)',\n",
       " 'Ch/B (2014)',\n",
       " 'Vazhakku Enn 18/9 (2012)',\n",
       " 'Self/less (2015)',\n",
       " 'X/Y (2014)',\n",
       " 'Filmage: The Story of Descendents/All (2013)',\n",
       " '7/G Rainbow Colony (2004)',\n",
       " '08/15 (1954)',\n",
       " '9/11: The Falling Man (2006)',\n",
       " 'Hitchcock/Truffaut (2015)',\n",
       " 'Celestial Subway Lines/Salvaging Noise (2005)',\n",
       " 'Recto/Verso (1999)',\n",
       " '.hack//Liminality Vol. 1: In the Case of Mai Minase (2002)',\n",
       " 'Little Forest: Winter/Spring (2015)',\n",
       " 'Matthesen/Hartmann: Bytte bytte kÌübmand (2010)',\n",
       " '11/11/11 (2011)',\n",
       " 'AC/DC: Let There Be Rock (1980)',\n",
       " 'Figli/Hijos (2001)',\n",
       " 'Dream/Killer (2015)']"
      ]
     },
     "execution_count": 9,
     "metadata": {},
     "output_type": "execute_result"
    }
   ],
   "source": [
    "slash_movie_title = []\n",
    "for i in range(len(movie.Title)):\n",
    "    if '/' in movie.Title[i]:\n",
    "        slash_movie_title.append(movie.Title[i])\n",
    "slash_movie_title"
   ]
  },
  {
   "cell_type": "code",
   "execution_count": 10,
   "metadata": {},
   "outputs": [],
   "source": [
    "df = movie[~movie.Title.isin(slash_movie_title)]"
   ]
  },
  {
   "cell_type": "code",
   "execution_count": 11,
   "metadata": {},
   "outputs": [],
   "source": [
    "movie = df"
   ]
  },
  {
   "cell_type": "code",
   "execution_count": 12,
   "metadata": {},
   "outputs": [],
   "source": [
    "movie = movie.dropna()"
   ]
  },
  {
   "cell_type": "code",
   "execution_count": 13,
   "metadata": {},
   "outputs": [],
   "source": [
    "movie = movie.reset_index(drop=True)"
   ]
  },
  {
   "cell_type": "code",
   "execution_count": 14,
   "metadata": {},
   "outputs": [],
   "source": [
    "%%capture\n",
    "a = \"/Users/michael/Documents/UCSB_2017-2018/PSTAT 134/134MHCP/\" + movie.Title[0] + \".jpg\"\n",
    "b = movie.Poster[0]\n",
    "urllib.request.urlretrieve(b,a)"
   ]
  },
  {
   "cell_type": "code",
   "execution_count": 15,
   "metadata": {
    "scrolled": true
   },
   "outputs": [
    {
     "data": {
      "application/vnd.jupyter.widget-view+json": {
       "model_id": "be47eab8aadc49419378aa5b5614a170",
       "version_major": 2,
       "version_minor": 0
      },
      "text/plain": [
       "HBox(children=(IntProgress(value=0, max=39180), HTML(value='')))"
      ]
     },
     "metadata": {},
     "output_type": "display_data"
    },
    {
     "name": "stdout",
     "output_type": "stream",
     "text": [
      "\n"
     ]
    }
   ],
   "source": [
    "bad_links = []\n",
    "\n",
    "for i in tnrange(len(movie.Poster)):\n",
    "    a = \"/Users/michael/Documents/UCSB_2017-2018/PSTAT 134/134MHCP/Images/\" + movie.Title[i] + \".jpg\"\n",
    "    b = movie.Poster[i]\n",
    "    try:\n",
    "        pg = urlopen(b)\n",
    "    except:\n",
    "        pg = False\n",
    "        bad_links.append(movie.Title[i])\n",
    "    if(pg!= False):\n",
    "        urllib.request.urlretrieve(b,a)"
   ]
  }
 ],
 "metadata": {
  "kernelspec": {
   "display_name": "Python 3",
   "language": "python",
   "name": "python3"
  },
  "language_info": {
   "codemirror_mode": {
    "name": "ipython",
    "version": 3
   },
   "file_extension": ".py",
   "mimetype": "text/x-python",
   "name": "python",
   "nbconvert_exporter": "python",
   "pygments_lexer": "ipython3",
   "version": "3.6.5"
  }
 },
 "nbformat": 4,
 "nbformat_minor": 2
}
