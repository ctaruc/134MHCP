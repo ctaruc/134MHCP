{
 "cells": [
  {
   "cell_type": "markdown",
   "metadata": {},
   "source": [
    "## Preprocessing and Dataset Statistics"
   ]
  },
  {
   "cell_type": "code",
   "execution_count": null,
   "metadata": {},
   "outputs": [],
   "source": [
    "import pandas as pd\n",
    "import numpy as np\n",
    "import re\n",
    "import sklearn\n",
    "from sklearn import cluster\n",
    "import matplotlib.pyplot as plt\n",
    "import seaborn as sb\n",
    "import matplotlib as g\n",
    "from sklearn.preprocessing import OneHotEncoder\n",
    "import random\n",
    "import scipy\n",
    "import scipy.signal"
   ]
  },
  {
   "cell_type": "markdown",
   "metadata": {},
   "source": [
    "**Importing the Dataset**"
   ]
  },
  {
   "cell_type": "code",
   "execution_count": null,
   "metadata": {},
   "outputs": [],
   "source": [
    "movie = pd.read_pickle('cleaned_movie_set')\n",
    "movie.head()"
   ]
  },
  {
   "cell_type": "markdown",
   "metadata": {},
   "source": [
    "**Acquiring Genre Correlations**"
   ]
  },
  {
   "cell_type": "code",
   "execution_count": null,
   "metadata": {},
   "outputs": [],
   "source": [
    "df = movie\n",
    "c = df.corr().abs()\n",
    "s = c.unstack()\n",
    "so = s.sort_values(ascending=False, kind=\"quicksort\")\n",
    "genre_corr = so[28::2]\n",
    "genre_corr[0:28]"
   ]
  },
  {
   "cell_type": "markdown",
   "metadata": {},
   "source": [
    "**Acquiring Cumulative Sums and Label Counts**"
   ]
  },
  {
   "cell_type": "code",
   "execution_count": null,
   "metadata": {},
   "outputs": [],
   "source": [
    "counts = [] #getting the counts per genre\n",
    "df = movie\n",
    "genres = df.columns[2::]\n",
    "for i in genres:\n",
    "    counts.append(df[i].value_counts().to_dict())\n",
    "#creating counts table\n",
    "counts_df = pd.DataFrame.from_dict(counts)\n",
    "counts_df[2] = genres\n",
    "counts_table = counts_df.drop([0], axis=1)\n",
    "counts_table = counts_table.rename(columns = {1:'counts', 2:'genre'})\n",
    "counts_sort = counts_table.sort('counts', ascending=False)\n",
    "#creating column of cumulative sums\n",
    "sumcol = counts_sort['counts'].sum()\n",
    "cumsum = counts_sort['counts']/sumcol\n",
    "counts_sort['cumsum'] = cumsum\n",
    "counts_sort"
   ]
  },
  {
   "cell_type": "markdown",
   "metadata": {},
   "source": [
    "**Displaying Correlation Matrix**"
   ]
  },
  {
   "cell_type": "code",
   "execution_count": null,
   "metadata": {},
   "outputs": [],
   "source": [
    "# df = movie\n",
    "# genres = df.columns[2:].tolist()\n",
    "# genres_rev = genres[::-1]\n",
    "# df = df.drop(df.columns[0:2], axis=1)\n",
    "\n",
    "#df_title = df.drop(df.columns[0:1], axis=1)\n",
    "df = movie\n",
    "genres = df.columns[1:].tolist()\n",
    "genres_rev= genres[::-1]"
   ]
  },
  {
   "cell_type": "code",
   "execution_count": null,
   "metadata": {},
   "outputs": [],
   "source": [
    "#sb.palplot(sb.color_palette(\"hls\", 7))\n",
    "R = np.corrcoef(df,rowvar=0)\n",
    "genre_heatmap = sb.heatmap(R)\n",
    "genre_heatmap.set_xticklabels(genres, rotation=90)\n",
    "genre_heatmap.set_yticklabels(genres_rev)\n",
    "plt.show(genre_heatmap)"
   ]
  },
  {
   "cell_type": "markdown",
   "metadata": {},
   "source": [
    "**Removing Irrelevant Label Genres**"
   ]
  },
  {
   "cell_type": "code",
   "execution_count": null,
   "metadata": {},
   "outputs": [],
   "source": [
    "garb = counts_sort['genre'].where(counts_sort['cumsum']<.04).tolist()\n",
    "garb = garb[9:28]\n",
    "garb"
   ]
  },
  {
   "cell_type": "code",
   "execution_count": null,
   "metadata": {},
   "outputs": [],
   "source": [
    "clean_df = df #clean dataset without garbage labels\n",
    "clean_df = clean_df.drop(garb, axis=1) #removing the unwanted genres from our dataset\n",
    "#clean_df = clean_df.drop(clean_df.columns[0], axis=1)\n",
    "clean_df.head()"
   ]
  },
  {
   "cell_type": "markdown",
   "metadata": {},
   "source": [
    "**New Correlations after Removing Excess Labels**"
   ]
  },
  {
   "cell_type": "code",
   "execution_count": null,
   "metadata": {},
   "outputs": [],
   "source": [
    "#New Correlations after removing excess labels\n",
    "c = clean_df.corr().abs()\n",
    "s = c.unstack()\n",
    "so = s.sort_values(ascending=False, kind=\"quicksort\")\n",
    "genre_corr = so[9::2]\n",
    "genre_corr[0:12]"
   ]
  },
  {
   "cell_type": "markdown",
   "metadata": {},
   "source": [
    "**Dropping Non-Contextual Genres**"
   ]
  },
  {
   "cell_type": "code",
   "execution_count": null,
   "metadata": {},
   "outputs": [],
   "source": [
    "sixgenres = clean_df.drop(['Adventure', 'Documentary', 'Drama'], axis=1)\n",
    "sixgenres['sample']=0\n",
    "sixgenres.head()"
   ]
  },
  {
   "cell_type": "markdown",
   "metadata": {},
   "source": [
    "**Checking Cumulative Sums after Removing Non-contextual Genres**"
   ]
  },
  {
   "cell_type": "code",
   "execution_count": null,
   "metadata": {},
   "outputs": [],
   "source": [
    "genres = sixgenres.columns[1:].tolist()\n",
    "counts = []\n",
    "for i in genres:\n",
    "    counts.append(sixgenres[i].value_counts().to_dict())\n",
    "counts_df = pd.DataFrame.from_dict(counts)\n",
    "counts_df[2] = genres\n",
    "counts_table = counts_df.drop([0], axis=1)\n",
    "counts_table = counts_table.rename(columns = {1:'counts', 2:'genre'})\n",
    "counts_sort = counts_table.sort('counts', ascending=False)\n",
    "sumcol = counts_sort['counts'].sum()\n",
    "cumsum = counts_sort['counts']/sumcol\n",
    "counts_sort['cumsum'] = cumsum\n",
    "counts_sort"
   ]
  },
  {
   "cell_type": "markdown",
   "metadata": {},
   "source": [
    "**Downsamping Comedy to Balance Label Classes**"
   ]
  },
  {
   "cell_type": "code",
   "execution_count": null,
   "metadata": {},
   "outputs": [],
   "source": [
    "col_list = ['Action','Comedy','Crime','Horror','Romance','Thriller']\n",
    "sixgenres['Empty'] = sixgenres[col_list].sum(axis = 1)\n",
    "df = sixgenres[sixgenres.Empty != 0]\n",
    "df.head()"
   ]
  },
  {
   "cell_type": "code",
   "execution_count": null,
   "metadata": {},
   "outputs": [],
   "source": []
  },
  {
   "cell_type": "code",
   "execution_count": null,
   "metadata": {},
   "outputs": [],
   "source": [
    "comedy = df[df['Comedy'] == 1]\n",
    "np.random.seed = 1\n",
    "b = np.random.choice(comedy.Title,size = 4000, replace = False)\n",
    "df2 = comedy[comedy['Title'].isin(b)]"
   ]
  },
  {
   "cell_type": "code",
   "execution_count": null,
   "metadata": {},
   "outputs": [],
   "source": [
    "df3 = df[(df_title['Title'].isin(df2.Title) & df['Comedy'] == 1) | (df['Comedy'] == 0)]"
   ]
  },
  {
   "cell_type": "code",
   "execution_count": null,
   "metadata": {},
   "outputs": [],
   "source": [
    "df3 = df[(df_title['Title'].isin(df2.Title) & df['Comedy'] == 1) | (df['Comedy'] == 0)]\n",
    "df4 = df3.drop(df3.columns[-2:],axis= 1)\n",
    "df4"
   ]
  },
  {
   "cell_type": "markdown",
   "metadata": {},
   "source": [
    "**Double-Checking Class Balance**"
   ]
  },
  {
   "cell_type": "code",
   "execution_count": null,
   "metadata": {},
   "outputs": [],
   "source": [
    "genres = df4.columns[1:].tolist()\n",
    "counts = []\n",
    "for i in genres:\n",
    "    counts.append(df4[i].value_counts().to_dict())\n",
    "    #counts.append((df[i]==1).value_counts().to_dict())\n",
    "#counts_df = []\n",
    "counts_df = pd.DataFrame.from_dict(counts)\n",
    "#counts_df = pd.DataFrame(counts)\n",
    "#counts_df = pd.DataFrame(counts)\n",
    "counts_df[2] = genres\n",
    "#counts_df\n",
    "counts_table = counts_df.drop([0], axis=1)\n",
    "#counts_table = counts_table.drop([28])\n",
    "counts_table = counts_table.rename(columns = {1:'counts', 2:'genre'})\n",
    "counts_sort = counts_table.sort('counts', ascending=False)\n",
    "#counts_sort\n",
    "sumcol = counts_sort['counts'].sum()\n",
    "cumsum = counts_sort['counts']/sumcol\n",
    "counts_sort['cumsum'] = cumsum\n",
    "counts_sort"
   ]
  },
  {
   "cell_type": "code",
   "execution_count": null,
   "metadata": {},
   "outputs": [],
   "source": []
  }
 ],
 "metadata": {
  "language_info": {
   "name": "python",
   "pygments_lexer": "ipython3"
  }
 },
 "nbformat": 4,
 "nbformat_minor": 2
}
